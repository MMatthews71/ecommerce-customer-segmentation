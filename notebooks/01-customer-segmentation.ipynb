{
 "cells": [
  {
   "cell_type": "markdown",
   "id": "8455d631-5b2f-446e-9e02-531267ac4a3d",
   "metadata": {},
   "source": [
    "Goal: To group e-commerce customers into distinct segments based on their purchasing behavior using clustering techniques, so the business can target each group with more personalized marketing strategies."
   ]
  },
  {
   "cell_type": "markdown",
   "id": "e449b32b-8dc4-4abf-bd98-8bc82a329bd9",
   "metadata": {},
   "source": [
    "1. loading the data"
   ]
  },
  {
   "cell_type": "code",
   "execution_count": null,
   "id": "063840af-c250-4a04-a21d-71a0ce9e6019",
   "metadata": {},
   "outputs": [],
   "source": []
  }
 ],
 "metadata": {
  "kernelspec": {
   "display_name": "Python [conda env:base] *",
   "language": "python",
   "name": "conda-base-py"
  },
  "language_info": {
   "codemirror_mode": {
    "name": "ipython",
    "version": 3
   },
   "file_extension": ".py",
   "mimetype": "text/x-python",
   "name": "python",
   "nbconvert_exporter": "python",
   "pygments_lexer": "ipython3",
   "version": "3.13.5"
  }
 },
 "nbformat": 4,
 "nbformat_minor": 5
}
