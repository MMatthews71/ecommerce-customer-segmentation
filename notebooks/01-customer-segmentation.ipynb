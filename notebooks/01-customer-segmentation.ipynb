{
 "cells": [
  {
   "cell_type": "markdown",
   "id": "8455d631-5b2f-446e-9e02-531267ac4a3d",
   "metadata": {},
   "source": [
    "Goal: To group e-commerce customers into distinct segments based on their purchasing behavior using clustering techniques, so the business can target each group with more personalized marketing strategies."
   ]
  },
  {
   "cell_type": "code",
   "execution_count": null,
   "id": "ff9ab0eb-0376-480d-8021-6ccf53d78a2a",
   "metadata": {},
   "outputs": [],
   "source": []
  }
 ],
 "metadata": {
  "kernelspec": {
   "display_name": "Python [conda env:base] *",
   "language": "python",
   "name": "conda-base-py"
  },
  "language_info": {
   "codemirror_mode": {
    "name": "ipython",
    "version": 3
   },
   "file_extension": ".py",
   "mimetype": "text/x-python",
   "name": "python",
   "nbconvert_exporter": "python",
   "pygments_lexer": "ipython3",
   "version": "3.13.5"
  }
 },
 "nbformat": 4,
 "nbformat_minor": 5
}
